{
 "cells": [
  {
   "cell_type": "markdown",
   "metadata": {},
   "source": [
    "# Working with Tweets\n",
    "\n",
    "In this notebook, we will delve into the analysis of tweet contents.\n",
    "\n",
    "We consider the dataset of tweets from Elon Musk, SpaceX and Tesla founder, and ask the following questions:\n",
    "* What is Elon most actively tweeting about?\n",
    "* Who is Elon most frequently referring to?\n",
    "\n",
    "We will explore how to work with the contents of tweets."
   ]
  },
  {
   "cell_type": "code",
   "execution_count": 7,
   "metadata": {},
   "outputs": [],
   "source": [
    "# imports\n",
    "\n",
    "import os, codecs\n",
    "import pandas as pd\n",
    "import numpy as np\n",
    "import seaborn as sns\n",
    "import matplotlib.pyplot as plt"
   ]
  },
  {
   "cell_type": "markdown",
   "metadata": {},
   "source": [
    "Let's get some basics (or a refresher) of working with texts in Python. Texts are sequences of discrete symbols (words or, more generically, tokens)."
   ]
  },
  {
   "cell_type": "markdown",
   "metadata": {},
   "source": [
    "## Import the dataset\n",
    "Let us import the Elon Musk's tweets dataset in memory.\n",
    "\n",
    "<img src=\"images/elon_loop.jpeg\" width=\"400px\" heigth=\"400px\">"
   ]
  },
  {
   "cell_type": "code",
   "execution_count": 8,
   "metadata": {},
   "outputs": [],
   "source": [
    "# import the dataset using Pandas, and create a data frame\n",
    "\n",
    "root_folder = \"data\"\n",
    "df_elon = pd.read_csv(codecs.open(os.path.join(root_folder,\"elonmusk_tweets.csv\"), encoding=\"utf8\"), sep=\",\")\n",
    "df_elon['text'] = df_elon['text'].str[1:] #remove the starting 'b' from every tweet"
   ]
  },
  {
   "cell_type": "code",
   "execution_count": 9,
   "metadata": {},
   "outputs": [
    {
     "data": {
      "text/html": [
       "<div>\n",
       "<style scoped>\n",
       "    .dataframe tbody tr th:only-of-type {\n",
       "        vertical-align: middle;\n",
       "    }\n",
       "\n",
       "    .dataframe tbody tr th {\n",
       "        vertical-align: top;\n",
       "    }\n",
       "\n",
       "    .dataframe thead th {\n",
       "        text-align: right;\n",
       "    }\n",
       "</style>\n",
       "<table border=\"1\" class=\"dataframe\">\n",
       "  <thead>\n",
       "    <tr style=\"text-align: right;\">\n",
       "      <th></th>\n",
       "      <th>id</th>\n",
       "      <th>created_at</th>\n",
       "      <th>text</th>\n",
       "    </tr>\n",
       "  </thead>\n",
       "  <tbody>\n",
       "    <tr>\n",
       "      <th>0</th>\n",
       "      <td>849636868052275200</td>\n",
       "      <td>2017-04-05 14:56:29</td>\n",
       "      <td>'And so the robots spared humanity ... https:/...</td>\n",
       "    </tr>\n",
       "    <tr>\n",
       "      <th>1</th>\n",
       "      <td>848988730585096192</td>\n",
       "      <td>2017-04-03 20:01:01</td>\n",
       "      <td>\"@ForIn2020 @waltmossberg @mims @defcon_5 Exac...</td>\n",
       "    </tr>\n",
       "    <tr>\n",
       "      <th>2</th>\n",
       "      <td>848943072423497728</td>\n",
       "      <td>2017-04-03 16:59:35</td>\n",
       "      <td>'@waltmossberg @mims @defcon_5 Et tu, Walt?'</td>\n",
       "    </tr>\n",
       "    <tr>\n",
       "      <th>3</th>\n",
       "      <td>848935705057280001</td>\n",
       "      <td>2017-04-03 16:30:19</td>\n",
       "      <td>'Stormy weather in Shortville ...'</td>\n",
       "    </tr>\n",
       "    <tr>\n",
       "      <th>4</th>\n",
       "      <td>848416049573658624</td>\n",
       "      <td>2017-04-02 06:05:23</td>\n",
       "      <td>\"@DaveLeeBBC @verge Coal is dying due to nat g...</td>\n",
       "    </tr>\n",
       "    <tr>\n",
       "      <th>5</th>\n",
       "      <td>848415731502923777</td>\n",
       "      <td>2017-04-02 06:04:07</td>\n",
       "      <td>\"@Lexxxzis It's just a helicopter in helicopte...</td>\n",
       "    </tr>\n",
       "    <tr>\n",
       "      <th>6</th>\n",
       "      <td>848415356263702528</td>\n",
       "      <td>2017-04-02 06:02:38</td>\n",
       "      <td>\"@verge It won't matter\"</td>\n",
       "    </tr>\n",
       "    <tr>\n",
       "      <th>7</th>\n",
       "      <td>848398971139629057</td>\n",
       "      <td>2017-04-02 04:57:31</td>\n",
       "      <td>'@SuperCoolCube Pretty good'</td>\n",
       "    </tr>\n",
       "    <tr>\n",
       "      <th>8</th>\n",
       "      <td>848244577521647616</td>\n",
       "      <td>2017-04-01 18:44:01</td>\n",
       "      <td>\"Why did we waste so much time developing sill...</td>\n",
       "    </tr>\n",
       "    <tr>\n",
       "      <th>9</th>\n",
       "      <td>848243350993895424</td>\n",
       "      <td>2017-04-01 18:39:09</td>\n",
       "      <td>'Technology breakthrough: turns out chemtrails...</td>\n",
       "    </tr>\n",
       "  </tbody>\n",
       "</table>\n",
       "</div>"
      ],
      "text/plain": [
       "                   id           created_at  \\\n",
       "0  849636868052275200  2017-04-05 14:56:29   \n",
       "1  848988730585096192  2017-04-03 20:01:01   \n",
       "2  848943072423497728  2017-04-03 16:59:35   \n",
       "3  848935705057280001  2017-04-03 16:30:19   \n",
       "4  848416049573658624  2017-04-02 06:05:23   \n",
       "5  848415731502923777  2017-04-02 06:04:07   \n",
       "6  848415356263702528  2017-04-02 06:02:38   \n",
       "7  848398971139629057  2017-04-02 04:57:31   \n",
       "8  848244577521647616  2017-04-01 18:44:01   \n",
       "9  848243350993895424  2017-04-01 18:39:09   \n",
       "\n",
       "                                                text  \n",
       "0  'And so the robots spared humanity ... https:/...  \n",
       "1  \"@ForIn2020 @waltmossberg @mims @defcon_5 Exac...  \n",
       "2       '@waltmossberg @mims @defcon_5 Et tu, Walt?'  \n",
       "3                 'Stormy weather in Shortville ...'  \n",
       "4  \"@DaveLeeBBC @verge Coal is dying due to nat g...  \n",
       "5  \"@Lexxxzis It's just a helicopter in helicopte...  \n",
       "6                           \"@verge It won't matter\"  \n",
       "7                       '@SuperCoolCube Pretty good'  \n",
       "8  \"Why did we waste so much time developing sill...  \n",
       "9  'Technology breakthrough: turns out chemtrails...  "
      ]
     },
     "execution_count": 9,
     "metadata": {},
     "output_type": "execute_result"
    }
   ],
   "source": [
    "df_elon.head(10)"
   ]
  },
  {
   "cell_type": "code",
   "execution_count": 10,
   "metadata": {},
   "outputs": [
    {
     "data": {
      "text/html": [
       "<div>\n",
       "<style scoped>\n",
       "    .dataframe tbody tr th:only-of-type {\n",
       "        vertical-align: middle;\n",
       "    }\n",
       "\n",
       "    .dataframe tbody tr th {\n",
       "        vertical-align: top;\n",
       "    }\n",
       "\n",
       "    .dataframe thead th {\n",
       "        text-align: right;\n",
       "    }\n",
       "</style>\n",
       "<table border=\"1\" class=\"dataframe\">\n",
       "  <thead>\n",
       "    <tr style=\"text-align: right;\">\n",
       "      <th></th>\n",
       "      <th>id</th>\n",
       "      <th>created_at</th>\n",
       "      <th>text</th>\n",
       "    </tr>\n",
       "  </thead>\n",
       "  <tbody>\n",
       "    <tr>\n",
       "      <th>2814</th>\n",
       "      <td>142881284019060736</td>\n",
       "      <td>2011-12-03 08:22:07</td>\n",
       "      <td>'That was a total non sequitur btw'</td>\n",
       "    </tr>\n",
       "    <tr>\n",
       "      <th>2815</th>\n",
       "      <td>142880871391838208</td>\n",
       "      <td>2011-12-03 08:20:28</td>\n",
       "      <td>'Great Voltaire quote, arguably better than Tw...</td>\n",
       "    </tr>\n",
       "    <tr>\n",
       "      <th>2816</th>\n",
       "      <td>142188458125963264</td>\n",
       "      <td>2011-12-01 10:29:04</td>\n",
       "      <td>'I made the volume on the Model S http://t.co/...</td>\n",
       "    </tr>\n",
       "    <tr>\n",
       "      <th>2817</th>\n",
       "      <td>142179928203460608</td>\n",
       "      <td>2011-12-01 09:55:11</td>\n",
       "      <td>\"Went to Iceland on Sat to ride bumper cars on...</td>\n",
       "    </tr>\n",
       "    <tr>\n",
       "      <th>2818</th>\n",
       "      <td>15434727182</td>\n",
       "      <td>2010-06-04 18:31:57</td>\n",
       "      <td>'Please ignore prior tweets, as that was someo...</td>\n",
       "    </tr>\n",
       "  </tbody>\n",
       "</table>\n",
       "</div>"
      ],
      "text/plain": [
       "                      id           created_at  \\\n",
       "2814  142881284019060736  2011-12-03 08:22:07   \n",
       "2815  142880871391838208  2011-12-03 08:20:28   \n",
       "2816  142188458125963264  2011-12-01 10:29:04   \n",
       "2817  142179928203460608  2011-12-01 09:55:11   \n",
       "2818         15434727182  2010-06-04 18:31:57   \n",
       "\n",
       "                                                   text  \n",
       "2814                'That was a total non sequitur btw'  \n",
       "2815  'Great Voltaire quote, arguably better than Tw...  \n",
       "2816  'I made the volume on the Model S http://t.co/...  \n",
       "2817  \"Went to Iceland on Sat to ride bumper cars on...  \n",
       "2818  'Please ignore prior tweets, as that was someo...  "
      ]
     },
     "execution_count": 10,
     "metadata": {},
     "output_type": "execute_result"
    }
   ],
   "source": [
    "df_elon.tail(5)"
   ]
  },
  {
   "cell_type": "code",
   "execution_count": 11,
   "metadata": {},
   "outputs": [
    {
     "data": {
      "text/plain": [
       "(2819, 3)"
      ]
     },
     "execution_count": 11,
     "metadata": {},
     "output_type": "execute_result"
    }
   ],
   "source": [
    "df_elon.shape # (number of rows, number of columns)"
   ]
  },
  {
   "cell_type": "code",
   "execution_count": 12,
   "metadata": {
    "scrolled": false
   },
   "outputs": [
    {
     "data": {
      "text/plain": [
       "[\"'And so the robots spared humanity ... https://t.co/v7JUJQWfCv'\",\n",
       " '\"@ForIn2020 @waltmossberg @mims @defcon_5 Exactly. Tesla is absurdly overvalued if based on the past, but that\\'s irr\\\\xe2\\\\x80\\\\xa6 https://t.co/qQcTqkzgMl\"',\n",
       " \"'@waltmossberg @mims @defcon_5 Et tu, Walt?'\",\n",
       " \"'Stormy weather in Shortville ...'\",\n",
       " '\"@DaveLeeBBC @verge Coal is dying due to nat gas fracking. It\\'s basically dead.\"',\n",
       " '\"@Lexxxzis It\\'s just a helicopter in helicopter\\'s clothing\"',\n",
       " '\"@verge It won\\'t matter\"',\n",
       " \"'@SuperCoolCube Pretty good'\",\n",
       " '\"Why did we waste so much time developing silly rockets? Damn you, aliens! So obtuse! You have all this crazy tech, but can\\'t speak English!?\"',\n",
       " \"'Technology breakthrough: turns out chemtrails are actually a message from time-traveling aliens describing the secret of teleportation'\"]"
      ]
     },
     "execution_count": 12,
     "metadata": {},
     "output_type": "execute_result"
    }
   ],
   "source": [
    "df_elon[\"text\"].tolist()[:10] #convert a column to a list"
   ]
  },
  {
   "cell_type": "markdown",
   "metadata": {},
   "source": [
    "## Working with tweet contents"
   ]
  },
  {
   "cell_type": "code",
   "execution_count": 13,
   "metadata": {},
   "outputs": [],
   "source": [
    "# import some of the most popular libraries for NLP in Python\n",
    "import nltk\n",
    "import string\n",
    "#import sklearn"
   ]
  },
  {
   "cell_type": "code",
   "execution_count": 14,
   "metadata": {},
   "outputs": [],
   "source": [
    "#nltk.download('punkt')"
   ]
  },
  {
   "cell_type": "markdown",
   "metadata": {},
   "source": [
    "A typical NLP pipeline might look like the following:\n",
    "    \n",
    "<img src=\"images/spacy_pipeline.png\" width=\"600px\" heigth=\"600px\">\n",
    "\n",
    "* Tokenization: split a text into tokens.\n",
    "* Filtering: remove some of the tokens if not needed (e.g., punctuation). If and how to remove is task dependent.\n",
    "* Tagger, parser: syntactic structure.\n",
    "* NER (Named Entity Recognition): find named entities.\n",
    "* ...\n",
    "\n",
    "### Tokenization: splitting a text into constituent tokens."
   ]
  },
  {
   "cell_type": "code",
   "execution_count": 15,
   "metadata": {},
   "outputs": [],
   "source": [
    "# NLTK provides us with a tokenizers for tweets\n",
    "\n",
    "from nltk.tokenize import TweetTokenizer, word_tokenize\n",
    "tknzr = TweetTokenizer(preserve_case=True, reduce_len=False, strip_handles=False)"
   ]
  },
  {
   "cell_type": "code",
   "execution_count": 16,
   "metadata": {},
   "outputs": [
    {
     "name": "stdout",
     "output_type": "stream",
     "text": [
      "\"@ForIn2020 @waltmossberg @mims @defcon_5 Exactly. Tesla is absurdly overvalued if based on the past, but that's irr\\xe2\\x80\\xa6 https://t.co/qQcTqkzgMl\"\n"
     ]
    }
   ],
   "source": [
    "example_tweet = df_elon.text[1]\n",
    "print(example_tweet)"
   ]
  },
  {
   "cell_type": "markdown",
   "metadata": {},
   "source": [
    "A tokenizer takes a string and outputs a list of tokens.\n",
    "\n",
    "We compare here two tokenizers: one for general English texts, and one specialized for tweets."
   ]
  },
  {
   "cell_type": "code",
   "execution_count": 17,
   "metadata": {},
   "outputs": [
    {
     "name": "stdout",
     "output_type": "stream",
     "text": [
      "['\"', '@ForIn2020', '@waltmossberg', '@mims', '@defcon_5', 'Exactly', '.', 'Tesla', 'is', 'absurdly', 'overvalued', 'if', 'based', 'on', 'the', 'past', ',', 'but', \"that's\", 'irr', '\\\\', 'xe2', '\\\\', 'x80', '\\\\', 'xa6', 'https://t.co/qQcTqkzgMl', '\"']\n",
      "\n",
      "======\n",
      "\n",
      "['``', '@', 'ForIn2020', '@', 'waltmossberg', '@', 'mims', '@', 'defcon_5', 'Exactly', '.', 'Tesla', 'is', 'absurdly', 'overvalued', 'if', 'based', 'on', 'the', 'past', ',', 'but', 'that', \"'s\", 'irr\\\\xe2\\\\x80\\\\xa6', 'https', ':', '//t.co/qQcTqkzgMl', \"''\"]\n"
     ]
    }
   ],
   "source": [
    "tkz1 = tknzr.tokenize(example_tweet)\n",
    "print(tkz1)\n",
    "print(\"\\n======\\n\")\n",
    "tkz2 = word_tokenize(example_tweet)\n",
    "print(tkz2)"
   ]
  },
  {
   "cell_type": "markdown",
   "metadata": {},
   "source": [
    "**Question**: can you spot what the Twitter tokenizer is doing instead of a standard one?"
   ]
  },
  {
   "cell_type": "markdown",
   "metadata": {},
   "source": [
    "### Filtering unnecessary tokens"
   ]
  },
  {
   "cell_type": "code",
   "execution_count": 18,
   "metadata": {},
   "outputs": [
    {
     "data": {
      "text/plain": [
       "'!\"#$%&\\'()*+,-./:;<=>?@[\\\\]^_`{|}~'"
      ]
     },
     "execution_count": 18,
     "metadata": {},
     "output_type": "execute_result"
    }
   ],
   "source": [
    "string.punctuation"
   ]
  },
  {
   "cell_type": "code",
   "execution_count": 20,
   "metadata": {},
   "outputs": [],
   "source": [
    "# some more pre-processing\n",
    "\n",
    "def filter_twt(tweet):\n",
    "    \n",
    "    # remove punctuation and short words and urls\n",
    "    tweet = [t for t in tweet if t not in string.punctuation and len(t) > 3 and not t.startswith(\"http\") and not t.startswith(\"www\")]\n",
    "    return tweet\n",
    "\n",
    "def tokenize_and_string(tweet):\n",
    "    \n",
    "    tkz = tknzr.tokenize(tweet)\n",
    "    \n",
    "    tkz = filter_twt(tkz)\n",
    "    \n",
    "    return \" \".join(tkz)"
   ]
  },
  {
   "cell_type": "code",
   "execution_count": 21,
   "metadata": {},
   "outputs": [
    {
     "name": "stdout",
     "output_type": "stream",
     "text": [
      "['\"', '@ForIn2020', '@waltmossberg', '@mims', '@defcon_5', 'Exactly', '.', 'Tesla', 'is', 'absurdly', 'overvalued', 'if', 'based', 'on', 'the', 'past', ',', 'but', \"that's\", 'irr', '\\\\', 'xe2', '\\\\', 'x80', '\\\\', 'xa6', 'https://t.co/qQcTqkzgMl', '\"']\n",
      "======\n",
      "['@ForIn2020', '@waltmossberg', '@mims', '@defcon_5', 'Exactly', 'Tesla', 'absurdly', 'overvalued', 'based', 'past', \"that's\"]\n"
     ]
    }
   ],
   "source": [
    "print(tkz1)\n",
    "print(\"======\")\n",
    "print(filter_twt(tkz1))"
   ]
  },
  {
   "cell_type": "code",
   "execution_count": 22,
   "metadata": {},
   "outputs": [],
   "source": [
    "df_elon[\"clean_text\"] = df_elon[\"text\"].apply(tokenize_and_string)"
   ]
  },
  {
   "cell_type": "code",
   "execution_count": 23,
   "metadata": {},
   "outputs": [
    {
     "data": {
      "text/html": [
       "<div>\n",
       "<style scoped>\n",
       "    .dataframe tbody tr th:only-of-type {\n",
       "        vertical-align: middle;\n",
       "    }\n",
       "\n",
       "    .dataframe tbody tr th {\n",
       "        vertical-align: top;\n",
       "    }\n",
       "\n",
       "    .dataframe thead th {\n",
       "        text-align: right;\n",
       "    }\n",
       "</style>\n",
       "<table border=\"1\" class=\"dataframe\">\n",
       "  <thead>\n",
       "    <tr style=\"text-align: right;\">\n",
       "      <th></th>\n",
       "      <th>id</th>\n",
       "      <th>created_at</th>\n",
       "      <th>text</th>\n",
       "      <th>clean_text</th>\n",
       "    </tr>\n",
       "  </thead>\n",
       "  <tbody>\n",
       "    <tr>\n",
       "      <th>0</th>\n",
       "      <td>849636868052275200</td>\n",
       "      <td>2017-04-05 14:56:29</td>\n",
       "      <td>'And so the robots spared humanity ... https:/...</td>\n",
       "      <td>robots spared humanity</td>\n",
       "    </tr>\n",
       "    <tr>\n",
       "      <th>1</th>\n",
       "      <td>848988730585096192</td>\n",
       "      <td>2017-04-03 20:01:01</td>\n",
       "      <td>\"@ForIn2020 @waltmossberg @mims @defcon_5 Exac...</td>\n",
       "      <td>@ForIn2020 @waltmossberg @mims @defcon_5 Exact...</td>\n",
       "    </tr>\n",
       "    <tr>\n",
       "      <th>2</th>\n",
       "      <td>848943072423497728</td>\n",
       "      <td>2017-04-03 16:59:35</td>\n",
       "      <td>'@waltmossberg @mims @defcon_5 Et tu, Walt?'</td>\n",
       "      <td>@waltmossberg @mims @defcon_5 Walt</td>\n",
       "    </tr>\n",
       "    <tr>\n",
       "      <th>3</th>\n",
       "      <td>848935705057280001</td>\n",
       "      <td>2017-04-03 16:30:19</td>\n",
       "      <td>'Stormy weather in Shortville ...'</td>\n",
       "      <td>Stormy weather Shortville</td>\n",
       "    </tr>\n",
       "    <tr>\n",
       "      <th>4</th>\n",
       "      <td>848416049573658624</td>\n",
       "      <td>2017-04-02 06:05:23</td>\n",
       "      <td>\"@DaveLeeBBC @verge Coal is dying due to nat g...</td>\n",
       "      <td>@DaveLeeBBC @verge Coal dying fracking It's ba...</td>\n",
       "    </tr>\n",
       "  </tbody>\n",
       "</table>\n",
       "</div>"
      ],
      "text/plain": [
       "                   id           created_at  \\\n",
       "0  849636868052275200  2017-04-05 14:56:29   \n",
       "1  848988730585096192  2017-04-03 20:01:01   \n",
       "2  848943072423497728  2017-04-03 16:59:35   \n",
       "3  848935705057280001  2017-04-03 16:30:19   \n",
       "4  848416049573658624  2017-04-02 06:05:23   \n",
       "\n",
       "                                                text  \\\n",
       "0  'And so the robots spared humanity ... https:/...   \n",
       "1  \"@ForIn2020 @waltmossberg @mims @defcon_5 Exac...   \n",
       "2       '@waltmossberg @mims @defcon_5 Et tu, Walt?'   \n",
       "3                 'Stormy weather in Shortville ...'   \n",
       "4  \"@DaveLeeBBC @verge Coal is dying due to nat g...   \n",
       "\n",
       "                                          clean_text  \n",
       "0                             robots spared humanity  \n",
       "1  @ForIn2020 @waltmossberg @mims @defcon_5 Exact...  \n",
       "2                 @waltmossberg @mims @defcon_5 Walt  \n",
       "3                          Stormy weather Shortville  \n",
       "4  @DaveLeeBBC @verge Coal dying fracking It's ba...  "
      ]
     },
     "execution_count": 23,
     "metadata": {},
     "output_type": "execute_result"
    }
   ],
   "source": [
    "df_elon.head(5)"
   ]
  },
  {
   "cell_type": "code",
   "execution_count": null,
   "metadata": {},
   "outputs": [],
   "source": [
    "# save cleaned up version\n",
    "\n",
    "#df_elon.to_csv(os.path.join(root_folder,\"df_elon.csv\"), index=False)"
   ]
  },
  {
   "cell_type": "markdown",
   "metadata": {},
   "source": [
    "### Building a dictionary with token occurrences\n",
    "\n",
    "We want to build a dictionary of unique tokens, containing the number of times they appear in the corpus."
   ]
  },
  {
   "cell_type": "code",
   "execution_count": 24,
   "metadata": {},
   "outputs": [],
   "source": [
    "from collections import Counter\n",
    "\n",
    "all_tokens = list()\n",
    "for tweet in df_elon[\"clean_text\"].tolist():\n",
    "    all_tokens.extend(tweet.split())"
   ]
  },
  {
   "cell_type": "code",
   "execution_count": 27,
   "metadata": {},
   "outputs": [
    {
     "data": {
      "text/plain": [
       "['robots',\n",
       " 'spared',\n",
       " 'humanity',\n",
       " '@ForIn2020',\n",
       " '@waltmossberg',\n",
       " '@mims',\n",
       " '@defcon_5',\n",
       " 'Exactly',\n",
       " 'Tesla',\n",
       " 'absurdly']"
      ]
     },
     "execution_count": 27,
     "metadata": {},
     "output_type": "execute_result"
    }
   ],
   "source": [
    "all_tokens[:10]"
   ]
  },
  {
   "cell_type": "code",
   "execution_count": 28,
   "metadata": {},
   "outputs": [],
   "source": [
    "c = Counter(all_tokens)"
   ]
  },
  {
   "cell_type": "code",
   "execution_count": 31,
   "metadata": {},
   "outputs": [
    {
     "data": {
      "text/plain": [
       "3"
      ]
     },
     "execution_count": 31,
     "metadata": {},
     "output_type": "execute_result"
    }
   ],
   "source": [
    "c[\"robots\"]"
   ]
  },
  {
   "cell_type": "markdown",
   "metadata": {},
   "source": [
    "#### Questions\n",
    "\n",
    "* Find the tokens most used by Elon.\n",
    "* Find the Twitter users most referred to by Elon (hint: use the @ handler to spot them)."
   ]
  },
  {
   "cell_type": "code",
   "execution_count": 32,
   "metadata": {},
   "outputs": [
    {
     "data": {
      "text/plain": [
       "[('Tesla', 322),\n",
       " ('Model', 236),\n",
       " ('that', 223),\n",
       " ('will', 218),\n",
       " ('with', 177),\n",
       " ('from', 163),\n",
       " ('this', 159),\n",
       " ('launch', 124),\n",
       " ('like', 115),\n",
       " ('about', 113),\n",
       " ('rocket', 110),\n",
       " ('Falcon', 108),\n",
       " ('good', 101),\n",
       " ('just', 97),\n",
       " ('have', 88),\n",
       " ('Dragon', 87),\n",
       " ('Will', 77),\n",
       " ('more', 74),\n",
       " ('landing', 73),\n",
       " ('time', 72)]"
      ]
     },
     "execution_count": 32,
     "metadata": {},
     "output_type": "execute_result"
    }
   ],
   "source": [
    "[d for d in c.most_common() if not d[0].startswith('@')][:20]"
   ]
  },
  {
   "cell_type": "code",
   "execution_count": 35,
   "metadata": {},
   "outputs": [
    {
     "data": {
      "text/plain": [
       "[('@SpaceX', 169),\n",
       " ('@TeslaMotors', 149),\n",
       " ('@elonmusk', 85),\n",
       " ('@NASA', 48),\n",
       " ('@Space_Station', 19),\n",
       " ('@FredericLambert', 17),\n",
       " ('@ID_AA_Carmack', 15),\n",
       " ('@WIRED', 14),\n",
       " ('@vicentes', 14),\n",
       " ('@OpenAI', 11),\n",
       " ('@BadAstronomer', 11),\n",
       " ('@MacTechGenius', 11),\n",
       " ('@TheEconomist', 10),\n",
       " ('@westcoastbill', 10),\n",
       " ('@TheOnion', 10),\n",
       " ('@verge', 9),\n",
       " ('@bonnienorman', 9),\n",
       " ('@newscientist', 9),\n",
       " ('@FortuneMagazine', 9),\n",
       " ('@mashable', 9)]"
      ]
     },
     "execution_count": 35,
     "metadata": {},
     "output_type": "execute_result"
    }
   ],
   "source": [
    "[d for d in c.most_common() if d[0].startswith('@')][:20]"
   ]
  },
  {
   "cell_type": "markdown",
   "metadata": {},
   "source": [
    "## Data visualization\n",
    "\n",
    "The `pandas`' API provides integration with the plotting functionalities provided by the `matplotlib` library.\n",
    "\n",
    "This seamless integration – which is very nice! – hides away from users some of the complexities of `matplotlib`.\n",
    "\n",
    "However, as there cases where advanced customizations are needed, it's useful to learn the high-level plotting functionalities of `pandas` or `seaborn` as well as being aware of how to perform more advanced customizations by means of `matplotlib`.\n",
    "\n",
    "Very useful [`matplotlib` cheatsheet](https://s3.amazonaws.com/assets.datacamp.com/blog_assets/Python_Matplotlib_Cheat_Sheet.pdf)."
   ]
  },
  {
   "cell_type": "code",
   "execution_count": 36,
   "metadata": {},
   "outputs": [],
   "source": [
    "import numpy as np\n",
    "import matplotlib.pyplot as plt"
   ]
  },
  {
   "cell_type": "code",
   "execution_count": 37,
   "metadata": {},
   "outputs": [],
   "source": [
    "import seaborn as sns\n",
    "# Use seaborn style defaults and set the default figure size\n",
    "sns.set(rc={'figure.figsize':(11, 5)})"
   ]
  },
  {
   "cell_type": "markdown",
   "metadata": {},
   "source": [
    "Let's plot the number of tweets mentioning one of the top 10 tokens over time."
   ]
  },
  {
   "cell_type": "code",
   "execution_count": 38,
   "metadata": {},
   "outputs": [
    {
     "data": {
      "text/html": [
       "<div>\n",
       "<style scoped>\n",
       "    .dataframe tbody tr th:only-of-type {\n",
       "        vertical-align: middle;\n",
       "    }\n",
       "\n",
       "    .dataframe tbody tr th {\n",
       "        vertical-align: top;\n",
       "    }\n",
       "\n",
       "    .dataframe thead th {\n",
       "        text-align: right;\n",
       "    }\n",
       "</style>\n",
       "<table border=\"1\" class=\"dataframe\">\n",
       "  <thead>\n",
       "    <tr style=\"text-align: right;\">\n",
       "      <th></th>\n",
       "      <th>id</th>\n",
       "      <th>created_at</th>\n",
       "      <th>text</th>\n",
       "      <th>clean_text</th>\n",
       "    </tr>\n",
       "  </thead>\n",
       "  <tbody>\n",
       "    <tr>\n",
       "      <th>0</th>\n",
       "      <td>849636868052275200</td>\n",
       "      <td>2017-04-05 14:56:29</td>\n",
       "      <td>'And so the robots spared humanity ... https:/...</td>\n",
       "      <td>robots spared humanity</td>\n",
       "    </tr>\n",
       "    <tr>\n",
       "      <th>1</th>\n",
       "      <td>848988730585096192</td>\n",
       "      <td>2017-04-03 20:01:01</td>\n",
       "      <td>\"@ForIn2020 @waltmossberg @mims @defcon_5 Exac...</td>\n",
       "      <td>@ForIn2020 @waltmossberg @mims @defcon_5 Exact...</td>\n",
       "    </tr>\n",
       "    <tr>\n",
       "      <th>2</th>\n",
       "      <td>848943072423497728</td>\n",
       "      <td>2017-04-03 16:59:35</td>\n",
       "      <td>'@waltmossberg @mims @defcon_5 Et tu, Walt?'</td>\n",
       "      <td>@waltmossberg @mims @defcon_5 Walt</td>\n",
       "    </tr>\n",
       "    <tr>\n",
       "      <th>3</th>\n",
       "      <td>848935705057280001</td>\n",
       "      <td>2017-04-03 16:30:19</td>\n",
       "      <td>'Stormy weather in Shortville ...'</td>\n",
       "      <td>Stormy weather Shortville</td>\n",
       "    </tr>\n",
       "    <tr>\n",
       "      <th>4</th>\n",
       "      <td>848416049573658624</td>\n",
       "      <td>2017-04-02 06:05:23</td>\n",
       "      <td>\"@DaveLeeBBC @verge Coal is dying due to nat g...</td>\n",
       "      <td>@DaveLeeBBC @verge Coal dying fracking It's ba...</td>\n",
       "    </tr>\n",
       "  </tbody>\n",
       "</table>\n",
       "</div>"
      ],
      "text/plain": [
       "                   id           created_at  \\\n",
       "0  849636868052275200  2017-04-05 14:56:29   \n",
       "1  848988730585096192  2017-04-03 20:01:01   \n",
       "2  848943072423497728  2017-04-03 16:59:35   \n",
       "3  848935705057280001  2017-04-03 16:30:19   \n",
       "4  848416049573658624  2017-04-02 06:05:23   \n",
       "\n",
       "                                                text  \\\n",
       "0  'And so the robots spared humanity ... https:/...   \n",
       "1  \"@ForIn2020 @waltmossberg @mims @defcon_5 Exac...   \n",
       "2       '@waltmossberg @mims @defcon_5 Et tu, Walt?'   \n",
       "3                 'Stormy weather in Shortville ...'   \n",
       "4  \"@DaveLeeBBC @verge Coal is dying due to nat g...   \n",
       "\n",
       "                                          clean_text  \n",
       "0                             robots spared humanity  \n",
       "1  @ForIn2020 @waltmossberg @mims @defcon_5 Exact...  \n",
       "2                 @waltmossberg @mims @defcon_5 Walt  \n",
       "3                          Stormy weather Shortville  \n",
       "4  @DaveLeeBBC @verge Coal dying fracking It's ba...  "
      ]
     },
     "execution_count": 38,
     "metadata": {},
     "output_type": "execute_result"
    }
   ],
   "source": [
    "df_elon.head(5)"
   ]
  },
  {
   "cell_type": "code",
   "execution_count": 39,
   "metadata": {},
   "outputs": [],
   "source": [
    "# convert the created_at column to datetime\n",
    "\n",
    "df_elon.created_at = pd.to_datetime(df_elon.created_at)"
   ]
  },
  {
   "cell_type": "code",
   "execution_count": 40,
   "metadata": {},
   "outputs": [
    {
     "data": {
      "text/html": [
       "<div>\n",
       "<style scoped>\n",
       "    .dataframe tbody tr th:only-of-type {\n",
       "        vertical-align: middle;\n",
       "    }\n",
       "\n",
       "    .dataframe tbody tr th {\n",
       "        vertical-align: top;\n",
       "    }\n",
       "\n",
       "    .dataframe thead th {\n",
       "        text-align: right;\n",
       "    }\n",
       "</style>\n",
       "<table border=\"1\" class=\"dataframe\">\n",
       "  <thead>\n",
       "    <tr style=\"text-align: right;\">\n",
       "      <th></th>\n",
       "      <th>id</th>\n",
       "      <th>created_at</th>\n",
       "      <th>text</th>\n",
       "      <th>clean_text</th>\n",
       "    </tr>\n",
       "  </thead>\n",
       "  <tbody>\n",
       "    <tr>\n",
       "      <th>0</th>\n",
       "      <td>849636868052275200</td>\n",
       "      <td>2017-04-05 14:56:29</td>\n",
       "      <td>'And so the robots spared humanity ... https:/...</td>\n",
       "      <td>robots spared humanity</td>\n",
       "    </tr>\n",
       "    <tr>\n",
       "      <th>1</th>\n",
       "      <td>848988730585096192</td>\n",
       "      <td>2017-04-03 20:01:01</td>\n",
       "      <td>\"@ForIn2020 @waltmossberg @mims @defcon_5 Exac...</td>\n",
       "      <td>@ForIn2020 @waltmossberg @mims @defcon_5 Exact...</td>\n",
       "    </tr>\n",
       "    <tr>\n",
       "      <th>2</th>\n",
       "      <td>848943072423497728</td>\n",
       "      <td>2017-04-03 16:59:35</td>\n",
       "      <td>'@waltmossberg @mims @defcon_5 Et tu, Walt?'</td>\n",
       "      <td>@waltmossberg @mims @defcon_5 Walt</td>\n",
       "    </tr>\n",
       "    <tr>\n",
       "      <th>3</th>\n",
       "      <td>848935705057280001</td>\n",
       "      <td>2017-04-03 16:30:19</td>\n",
       "      <td>'Stormy weather in Shortville ...'</td>\n",
       "      <td>Stormy weather Shortville</td>\n",
       "    </tr>\n",
       "    <tr>\n",
       "      <th>4</th>\n",
       "      <td>848416049573658624</td>\n",
       "      <td>2017-04-02 06:05:23</td>\n",
       "      <td>\"@DaveLeeBBC @verge Coal is dying due to nat g...</td>\n",
       "      <td>@DaveLeeBBC @verge Coal dying fracking It's ba...</td>\n",
       "    </tr>\n",
       "  </tbody>\n",
       "</table>\n",
       "</div>"
      ],
      "text/plain": [
       "                   id          created_at  \\\n",
       "0  849636868052275200 2017-04-05 14:56:29   \n",
       "1  848988730585096192 2017-04-03 20:01:01   \n",
       "2  848943072423497728 2017-04-03 16:59:35   \n",
       "3  848935705057280001 2017-04-03 16:30:19   \n",
       "4  848416049573658624 2017-04-02 06:05:23   \n",
       "\n",
       "                                                text  \\\n",
       "0  'And so the robots spared humanity ... https:/...   \n",
       "1  \"@ForIn2020 @waltmossberg @mims @defcon_5 Exac...   \n",
       "2       '@waltmossberg @mims @defcon_5 Et tu, Walt?'   \n",
       "3                 'Stormy weather in Shortville ...'   \n",
       "4  \"@DaveLeeBBC @verge Coal is dying due to nat g...   \n",
       "\n",
       "                                          clean_text  \n",
       "0                             robots spared humanity  \n",
       "1  @ForIn2020 @waltmossberg @mims @defcon_5 Exact...  \n",
       "2                 @waltmossberg @mims @defcon_5 Walt  \n",
       "3                          Stormy weather Shortville  \n",
       "4  @DaveLeeBBC @verge Coal dying fracking It's ba...  "
      ]
     },
     "execution_count": 40,
     "metadata": {},
     "output_type": "execute_result"
    }
   ],
   "source": [
    "df_elon.head(5)"
   ]
  },
  {
   "cell_type": "code",
   "execution_count": 41,
   "metadata": {},
   "outputs": [],
   "source": [
    "df_elon[\"year\"] = df_elon.created_at.dt.year"
   ]
  },
  {
   "cell_type": "code",
   "execution_count": 42,
   "metadata": {},
   "outputs": [
    {
     "data": {
      "text/html": [
       "<div>\n",
       "<style scoped>\n",
       "    .dataframe tbody tr th:only-of-type {\n",
       "        vertical-align: middle;\n",
       "    }\n",
       "\n",
       "    .dataframe tbody tr th {\n",
       "        vertical-align: top;\n",
       "    }\n",
       "\n",
       "    .dataframe thead th {\n",
       "        text-align: right;\n",
       "    }\n",
       "</style>\n",
       "<table border=\"1\" class=\"dataframe\">\n",
       "  <thead>\n",
       "    <tr style=\"text-align: right;\">\n",
       "      <th></th>\n",
       "      <th>id</th>\n",
       "      <th>created_at</th>\n",
       "      <th>text</th>\n",
       "      <th>clean_text</th>\n",
       "      <th>year</th>\n",
       "    </tr>\n",
       "  </thead>\n",
       "  <tbody>\n",
       "    <tr>\n",
       "      <th>0</th>\n",
       "      <td>849636868052275200</td>\n",
       "      <td>2017-04-05 14:56:29</td>\n",
       "      <td>'And so the robots spared humanity ... https:/...</td>\n",
       "      <td>robots spared humanity</td>\n",
       "      <td>2017</td>\n",
       "    </tr>\n",
       "    <tr>\n",
       "      <th>1</th>\n",
       "      <td>848988730585096192</td>\n",
       "      <td>2017-04-03 20:01:01</td>\n",
       "      <td>\"@ForIn2020 @waltmossberg @mims @defcon_5 Exac...</td>\n",
       "      <td>@ForIn2020 @waltmossberg @mims @defcon_5 Exact...</td>\n",
       "      <td>2017</td>\n",
       "    </tr>\n",
       "    <tr>\n",
       "      <th>2</th>\n",
       "      <td>848943072423497728</td>\n",
       "      <td>2017-04-03 16:59:35</td>\n",
       "      <td>'@waltmossberg @mims @defcon_5 Et tu, Walt?'</td>\n",
       "      <td>@waltmossberg @mims @defcon_5 Walt</td>\n",
       "      <td>2017</td>\n",
       "    </tr>\n",
       "    <tr>\n",
       "      <th>3</th>\n",
       "      <td>848935705057280001</td>\n",
       "      <td>2017-04-03 16:30:19</td>\n",
       "      <td>'Stormy weather in Shortville ...'</td>\n",
       "      <td>Stormy weather Shortville</td>\n",
       "      <td>2017</td>\n",
       "    </tr>\n",
       "    <tr>\n",
       "      <th>4</th>\n",
       "      <td>848416049573658624</td>\n",
       "      <td>2017-04-02 06:05:23</td>\n",
       "      <td>\"@DaveLeeBBC @verge Coal is dying due to nat g...</td>\n",
       "      <td>@DaveLeeBBC @verge Coal dying fracking It's ba...</td>\n",
       "      <td>2017</td>\n",
       "    </tr>\n",
       "  </tbody>\n",
       "</table>\n",
       "</div>"
      ],
      "text/plain": [
       "                   id          created_at  \\\n",
       "0  849636868052275200 2017-04-05 14:56:29   \n",
       "1  848988730585096192 2017-04-03 20:01:01   \n",
       "2  848943072423497728 2017-04-03 16:59:35   \n",
       "3  848935705057280001 2017-04-03 16:30:19   \n",
       "4  848416049573658624 2017-04-02 06:05:23   \n",
       "\n",
       "                                                text  \\\n",
       "0  'And so the robots spared humanity ... https:/...   \n",
       "1  \"@ForIn2020 @waltmossberg @mims @defcon_5 Exac...   \n",
       "2       '@waltmossberg @mims @defcon_5 Et tu, Walt?'   \n",
       "3                 'Stormy weather in Shortville ...'   \n",
       "4  \"@DaveLeeBBC @verge Coal is dying due to nat g...   \n",
       "\n",
       "                                          clean_text  year  \n",
       "0                             robots spared humanity  2017  \n",
       "1  @ForIn2020 @waltmossberg @mims @defcon_5 Exact...  2017  \n",
       "2                 @waltmossberg @mims @defcon_5 Walt  2017  \n",
       "3                          Stormy weather Shortville  2017  \n",
       "4  @DaveLeeBBC @verge Coal dying fracking It's ba...  2017  "
      ]
     },
     "execution_count": 42,
     "metadata": {},
     "output_type": "execute_result"
    }
   ],
   "source": [
    "df_elon.head()"
   ]
  },
  {
   "cell_type": "code",
   "execution_count": 45,
   "metadata": {},
   "outputs": [],
   "source": [
    "# count the number of tweets containing a certain word (or user name)\n",
    "\n",
    "which_word = 'Tesla' #Tesla\n",
    "\n",
    "def word_in_tweet(tweet,word):\n",
    "    return word in tweet\n",
    "\n",
    "df_elon[\"word_in_tweet\"] = df_elon.clean_text.apply(lambda tweet: which_word in tweet)"
   ]
  },
  {
   "cell_type": "code",
   "execution_count": 46,
   "metadata": {},
   "outputs": [
    {
     "data": {
      "text/html": [
       "<div>\n",
       "<style scoped>\n",
       "    .dataframe tbody tr th:only-of-type {\n",
       "        vertical-align: middle;\n",
       "    }\n",
       "\n",
       "    .dataframe tbody tr th {\n",
       "        vertical-align: top;\n",
       "    }\n",
       "\n",
       "    .dataframe thead th {\n",
       "        text-align: right;\n",
       "    }\n",
       "</style>\n",
       "<table border=\"1\" class=\"dataframe\">\n",
       "  <thead>\n",
       "    <tr style=\"text-align: right;\">\n",
       "      <th></th>\n",
       "      <th>id</th>\n",
       "      <th>created_at</th>\n",
       "      <th>text</th>\n",
       "      <th>clean_text</th>\n",
       "      <th>year</th>\n",
       "      <th>word_in_tweet</th>\n",
       "    </tr>\n",
       "  </thead>\n",
       "  <tbody>\n",
       "    <tr>\n",
       "      <th>0</th>\n",
       "      <td>849636868052275200</td>\n",
       "      <td>2017-04-05 14:56:29</td>\n",
       "      <td>'And so the robots spared humanity ... https:/...</td>\n",
       "      <td>robots spared humanity</td>\n",
       "      <td>2017</td>\n",
       "      <td>False</td>\n",
       "    </tr>\n",
       "    <tr>\n",
       "      <th>1</th>\n",
       "      <td>848988730585096192</td>\n",
       "      <td>2017-04-03 20:01:01</td>\n",
       "      <td>\"@ForIn2020 @waltmossberg @mims @defcon_5 Exac...</td>\n",
       "      <td>@ForIn2020 @waltmossberg @mims @defcon_5 Exact...</td>\n",
       "      <td>2017</td>\n",
       "      <td>True</td>\n",
       "    </tr>\n",
       "    <tr>\n",
       "      <th>2</th>\n",
       "      <td>848943072423497728</td>\n",
       "      <td>2017-04-03 16:59:35</td>\n",
       "      <td>'@waltmossberg @mims @defcon_5 Et tu, Walt?'</td>\n",
       "      <td>@waltmossberg @mims @defcon_5 Walt</td>\n",
       "      <td>2017</td>\n",
       "      <td>False</td>\n",
       "    </tr>\n",
       "    <tr>\n",
       "      <th>3</th>\n",
       "      <td>848935705057280001</td>\n",
       "      <td>2017-04-03 16:30:19</td>\n",
       "      <td>'Stormy weather in Shortville ...'</td>\n",
       "      <td>Stormy weather Shortville</td>\n",
       "      <td>2017</td>\n",
       "      <td>False</td>\n",
       "    </tr>\n",
       "    <tr>\n",
       "      <th>4</th>\n",
       "      <td>848416049573658624</td>\n",
       "      <td>2017-04-02 06:05:23</td>\n",
       "      <td>\"@DaveLeeBBC @verge Coal is dying due to nat g...</td>\n",
       "      <td>@DaveLeeBBC @verge Coal dying fracking It's ba...</td>\n",
       "      <td>2017</td>\n",
       "      <td>False</td>\n",
       "    </tr>\n",
       "  </tbody>\n",
       "</table>\n",
       "</div>"
      ],
      "text/plain": [
       "                   id          created_at  \\\n",
       "0  849636868052275200 2017-04-05 14:56:29   \n",
       "1  848988730585096192 2017-04-03 20:01:01   \n",
       "2  848943072423497728 2017-04-03 16:59:35   \n",
       "3  848935705057280001 2017-04-03 16:30:19   \n",
       "4  848416049573658624 2017-04-02 06:05:23   \n",
       "\n",
       "                                                text  \\\n",
       "0  'And so the robots spared humanity ... https:/...   \n",
       "1  \"@ForIn2020 @waltmossberg @mims @defcon_5 Exac...   \n",
       "2       '@waltmossberg @mims @defcon_5 Et tu, Walt?'   \n",
       "3                 'Stormy weather in Shortville ...'   \n",
       "4  \"@DaveLeeBBC @verge Coal is dying due to nat g...   \n",
       "\n",
       "                                          clean_text  year  word_in_tweet  \n",
       "0                             robots spared humanity  2017          False  \n",
       "1  @ForIn2020 @waltmossberg @mims @defcon_5 Exact...  2017           True  \n",
       "2                 @waltmossberg @mims @defcon_5 Walt  2017          False  \n",
       "3                          Stormy weather Shortville  2017          False  \n",
       "4  @DaveLeeBBC @verge Coal dying fracking It's ba...  2017          False  "
      ]
     },
     "execution_count": 46,
     "metadata": {},
     "output_type": "execute_result"
    }
   ],
   "source": [
    "df_elon.head(5)"
   ]
  },
  {
   "cell_type": "code",
   "execution_count": 47,
   "metadata": {},
   "outputs": [
    {
     "data": {
      "text/plain": [
       "['robots spared humanity',\n",
       " \"@ForIn2020 @waltmossberg @mims @defcon_5 Exactly Tesla absurdly overvalued based past that's\"]"
      ]
     },
     "execution_count": 47,
     "metadata": {},
     "output_type": "execute_result"
    }
   ],
   "source": [
    "df_elon.clean_text.to_list()[:2]"
   ]
  },
  {
   "cell_type": "code",
   "execution_count": 48,
   "metadata": {},
   "outputs": [],
   "source": [
    "d = df_elon.groupby('year').word_in_tweet.agg('sum')"
   ]
  },
  {
   "cell_type": "code",
   "execution_count": 49,
   "metadata": {},
   "outputs": [
    {
     "data": {
      "text/plain": [
       "<matplotlib.axes._subplots.AxesSubplot at 0x1a271afc50>"
      ]
     },
     "execution_count": 49,
     "metadata": {},
     "output_type": "execute_result"
    },
    {
     "data": {
      "image/png": "[encoded data removed]",
      "text/plain": [
       "<Figure size 792x288 with 1 Axes>"
      ]
     },
     "metadata": {},
     "output_type": "display_data"
    }
   ],
   "source": [
    "sns.barplot(d.index,d.values,color=\"skyblue\")"
   ]
  },
  {
   "cell_type": "code",
   "execution_count": 50,
   "metadata": {},
   "outputs": [
    {
     "data": {
      "image/png": "[encoded data removed]",
      "text/plain": [
       "<Figure size 792x288 with 1 Axes>"
      ]
     },
     "metadata": {},
     "output_type": "display_data"
    }
   ],
   "source": [
    "sns.barplot(d.index,d.values,color=\"skyblue\")\n",
    "plt.xlabel(\"Year\", fontsize=14)\n",
    "plt.ylabel(\"Count\", fontsize=14)\n",
    "plt.title(\"Number of tweets mentioning %s\"%which_word, fontsize=14)\n",
    "plt.tight_layout()\n",
    "plt.savefig(\"stuff/elon_plot.pdf\")"
   ]
  },
  {
   "cell_type": "markdown",
   "metadata": {},
   "source": [
    "Another question: how many tweets per month over time? We need to change the index and group.."
   ]
  },
  {
   "cell_type": "code",
   "execution_count": 52,
   "metadata": {},
   "outputs": [
    {
     "data": {
      "text/plain": [
       "[0, 1, 2, 3, 4, 5, 6, 7, 8, 9]"
      ]
     },
     "execution_count": 52,
     "metadata": {},
     "output_type": "execute_result"
    }
   ],
   "source": [
    "df_elon.index.to_list()[:10]"
   ]
  },
  {
   "cell_type": "code",
   "execution_count": 53,
   "metadata": {},
   "outputs": [],
   "source": [
    "df_elon.index = df_elon['created_at']"
   ]
  },
  {
   "cell_type": "code",
   "execution_count": 54,
   "metadata": {},
   "outputs": [
    {
     "data": {
      "text/html": [
       "<div>\n",
       "<style scoped>\n",
       "    .dataframe tbody tr th:only-of-type {\n",
       "        vertical-align: middle;\n",
       "    }\n",
       "\n",
       "    .dataframe tbody tr th {\n",
       "        vertical-align: top;\n",
       "    }\n",
       "\n",
       "    .dataframe thead th {\n",
       "        text-align: right;\n",
       "    }\n",
       "</style>\n",
       "<table border=\"1\" class=\"dataframe\">\n",
       "  <thead>\n",
       "    <tr style=\"text-align: right;\">\n",
       "      <th></th>\n",
       "      <th>id</th>\n",
       "      <th>created_at</th>\n",
       "      <th>text</th>\n",
       "      <th>clean_text</th>\n",
       "      <th>year</th>\n",
       "      <th>word_in_tweet</th>\n",
       "    </tr>\n",
       "    <tr>\n",
       "      <th>created_at</th>\n",
       "      <th></th>\n",
       "      <th></th>\n",
       "      <th></th>\n",
       "      <th></th>\n",
       "      <th></th>\n",
       "      <th></th>\n",
       "    </tr>\n",
       "  </thead>\n",
       "  <tbody>\n",
       "    <tr>\n",
       "      <th>2017-04-05 14:56:29</th>\n",
       "      <td>849636868052275200</td>\n",
       "      <td>2017-04-05 14:56:29</td>\n",
       "      <td>'And so the robots spared humanity ... https:/...</td>\n",
       "      <td>robots spared humanity</td>\n",
       "      <td>2017</td>\n",
       "      <td>False</td>\n",
       "    </tr>\n",
       "    <tr>\n",
       "      <th>2017-04-03 20:01:01</th>\n",
       "      <td>848988730585096192</td>\n",
       "      <td>2017-04-03 20:01:01</td>\n",
       "      <td>\"@ForIn2020 @waltmossberg @mims @defcon_5 Exac...</td>\n",
       "      <td>@ForIn2020 @waltmossberg @mims @defcon_5 Exact...</td>\n",
       "      <td>2017</td>\n",
       "      <td>True</td>\n",
       "    </tr>\n",
       "    <tr>\n",
       "      <th>2017-04-03 16:59:35</th>\n",
       "      <td>848943072423497728</td>\n",
       "      <td>2017-04-03 16:59:35</td>\n",
       "      <td>'@waltmossberg @mims @defcon_5 Et tu, Walt?'</td>\n",
       "      <td>@waltmossberg @mims @defcon_5 Walt</td>\n",
       "      <td>2017</td>\n",
       "      <td>False</td>\n",
       "    </tr>\n",
       "    <tr>\n",
       "      <th>2017-04-03 16:30:19</th>\n",
       "      <td>848935705057280001</td>\n",
       "      <td>2017-04-03 16:30:19</td>\n",
       "      <td>'Stormy weather in Shortville ...'</td>\n",
       "      <td>Stormy weather Shortville</td>\n",
       "      <td>2017</td>\n",
       "      <td>False</td>\n",
       "    </tr>\n",
       "    <tr>\n",
       "      <th>2017-04-02 06:05:23</th>\n",
       "      <td>848416049573658624</td>\n",
       "      <td>2017-04-02 06:05:23</td>\n",
       "      <td>\"@DaveLeeBBC @verge Coal is dying due to nat g...</td>\n",
       "      <td>@DaveLeeBBC @verge Coal dying fracking It's ba...</td>\n",
       "      <td>2017</td>\n",
       "      <td>False</td>\n",
       "    </tr>\n",
       "  </tbody>\n",
       "</table>\n",
       "</div>"
      ],
      "text/plain": [
       "                                     id          created_at  \\\n",
       "created_at                                                    \n",
       "2017-04-05 14:56:29  849636868052275200 2017-04-05 14:56:29   \n",
       "2017-04-03 20:01:01  848988730585096192 2017-04-03 20:01:01   \n",
       "2017-04-03 16:59:35  848943072423497728 2017-04-03 16:59:35   \n",
       "2017-04-03 16:30:19  848935705057280001 2017-04-03 16:30:19   \n",
       "2017-04-02 06:05:23  848416049573658624 2017-04-02 06:05:23   \n",
       "\n",
       "                                                                  text  \\\n",
       "created_at                                                               \n",
       "2017-04-05 14:56:29  'And so the robots spared humanity ... https:/...   \n",
       "2017-04-03 20:01:01  \"@ForIn2020 @waltmossberg @mims @defcon_5 Exac...   \n",
       "2017-04-03 16:59:35       '@waltmossberg @mims @defcon_5 Et tu, Walt?'   \n",
       "2017-04-03 16:30:19                 'Stormy weather in Shortville ...'   \n",
       "2017-04-02 06:05:23  \"@DaveLeeBBC @verge Coal is dying due to nat g...   \n",
       "\n",
       "                                                            clean_text  year  \\\n",
       "created_at                                                                     \n",
       "2017-04-05 14:56:29                             robots spared humanity  2017   \n",
       "2017-04-03 20:01:01  @ForIn2020 @waltmossberg @mims @defcon_5 Exact...  2017   \n",
       "2017-04-03 16:59:35                 @waltmossberg @mims @defcon_5 Walt  2017   \n",
       "2017-04-03 16:30:19                          Stormy weather Shortville  2017   \n",
       "2017-04-02 06:05:23  @DaveLeeBBC @verge Coal dying fracking It's ba...  2017   \n",
       "\n",
       "                     word_in_tweet  \n",
       "created_at                          \n",
       "2017-04-05 14:56:29          False  \n",
       "2017-04-03 20:01:01           True  \n",
       "2017-04-03 16:59:35          False  \n",
       "2017-04-03 16:30:19          False  \n",
       "2017-04-02 06:05:23          False  "
      ]
     },
     "execution_count": 54,
     "metadata": {},
     "output_type": "execute_result"
    }
   ],
   "source": [
    "df_elon.head(5)"
   ]
  },
  {
   "cell_type": "code",
   "execution_count": 55,
   "metadata": {},
   "outputs": [
    {
     "data": {
      "text/plain": [
       "created_at\n",
       "2016-07-31    142\n",
       "2016-08-31     39\n",
       "2016-09-30     87\n",
       "2016-10-31    102\n",
       "2016-11-30     82\n",
       "2016-12-31     50\n",
       "2017-01-31    107\n",
       "2017-02-28    137\n",
       "2017-03-31    120\n",
       "2017-04-30     13\n",
       "Freq: M, Name: id, dtype: int64"
      ]
     },
     "execution_count": 55,
     "metadata": {},
     "output_type": "execute_result"
    }
   ],
   "source": [
    "df_elon.groupby(pd.Grouper(freq='M')).agg('count')['id'][-10:]"
   ]
  },
  {
   "cell_type": "code",
   "execution_count": 57,
   "metadata": {},
   "outputs": [
    {
     "data": {
      "text/plain": [
       "<matplotlib.axes._subplots.AxesSubplot at 0x1a284a7cf8>"
      ]
     },
     "execution_count": 57,
     "metadata": {},
     "output_type": "execute_result"
    },
    {
     "data": {
      "image/png": "[encoded data removed]",
      "text/plain": [
       "<Figure size 792x288 with 1 Axes>"
      ]
     },
     "metadata": {},
     "output_type": "display_data"
    }
   ],
   "source": [
    "df_elon.groupby(pd.Grouper(freq='M')).agg('count')['id'].plot()"
   ]
  },
  {
   "cell_type": "markdown",
   "metadata": {},
   "source": [
    "**Remark**: there is much more to this than plotting. Take a loot at the [Seaborn](https://seaborn.pydata.org/examples/index.html) or [Matplotlib](https://matplotlib.org/gallery.html) galleries for some compelling examples."
   ]
  },
  {
   "cell_type": "markdown",
   "metadata": {},
   "source": [
    "---"
   ]
  },
  {
   "cell_type": "markdown",
   "metadata": {},
   "source": [
    "### Anatomy of a plot (OPT)"
   ]
  },
  {
   "cell_type": "code",
   "execution_count": 58,
   "metadata": {},
   "outputs": [
    {
     "data": {
      "image/png": "[encoded data removed]",
      "text/plain": [
       "<Figure size 720x720 with 4 Axes>"
      ]
     },
     "metadata": {},
     "output_type": "display_data"
    }
   ],
   "source": [
    "# first we create the figure, which is the \n",
    "# container where all plots reside\n",
    "\n",
    "fig = plt.figure(figsize=(10, 10))\n",
    "\n",
    "ax1 = fig.add_subplot(2, 2, 1)\n",
    "plt.plot(np.random.randn(50).cumsum(), 'k--')\n",
    "\n",
    "ax2 = fig.add_subplot(2, 2, 2)\n",
    "ax3 = fig.add_subplot(2, 2, 3)\n",
    "ax4 = fig.add_subplot(2, 2, 4)\n",
    "plt.show()"
   ]
  },
  {
   "cell_type": "code",
   "execution_count": 59,
   "metadata": {},
   "outputs": [
    {
     "data": {
      "image/png": "[encoded data removed]",
      "text/plain": [
       "<Figure size 720x720 with 4 Axes>"
      ]
     },
     "metadata": {
      "needs_background": "light"
     },
     "output_type": "display_data"
    }
   ],
   "source": [
    "%matplotlib inline\n",
    "\n",
    "# first we creta the figure, which is the \n",
    "# container where all plots reside\n",
    "fig = plt.figure(figsize=(10, 10))\n",
    "\n",
    "ax1 = fig.add_subplot(2, 2, 1)\n",
    "plt.plot(np.random.randn(50), 'k--')\n",
    "\n",
    "ax2 = fig.add_subplot(2, 2, 2)\n",
    "ax3 = fig.add_subplot(2, 2, 3)\n",
    "ax4 = fig.add_subplot(2, 2, 4)"
   ]
  },
  {
   "cell_type": "markdown",
   "metadata": {},
   "source": [
    "Each plot resides within a `Figure` object.\n",
    "\n",
    "Each subsplot resides within an `AxesSubplot` object."
   ]
  },
  {
   "cell_type": "code",
   "execution_count": 60,
   "metadata": {},
   "outputs": [
    {
     "data": {
      "image/png": "[encoded data removed]",
      "text/plain": [
       "<Figure size 720x720 with 4 Axes>"
      ]
     },
     "metadata": {
      "needs_background": "light"
     },
     "output_type": "display_data"
    }
   ],
   "source": [
    "fig, axes = plt.subplots(nrows=2, ncols=2)\n",
    "axes[0,1].plot(np.random.randn(50), 'r--')\n",
    "axes[0,1].plot(np.random.randn(50), 'b--')\n",
    "axes[1,1].plot(np.random.randn(50), 'k--')\n",
    "axes[1,0].plot(np.random.randn(50), '.')\n",
    "axes[0,0].plot(np.random.randn(50), 'y-')\n",
    "fig.set_size_inches(10, 10)"
   ]
  },
  {
   "cell_type": "markdown",
   "metadata": {},
   "source": [
    "---"
   ]
  },
  {
   "cell_type": "markdown",
   "metadata": {},
   "source": [
    "### Exercise 1.\n",
    "\n",
    "* Plot the top n words together in a single figure, and show their trends over time.\n",
    "* Do the same for the top n users mentioned."
   ]
  },
  {
   "cell_type": "code",
   "execution_count": null,
   "metadata": {},
   "outputs": [],
   "source": [
    "# Your code here"
   ]
  },
  {
   "cell_type": "markdown",
   "metadata": {},
   "source": [
    "---"
   ]
  }
 ],
 "metadata": {
  "kernelspec": {
   "display_name": "Python 3",
   "language": "python",
   "name": "python3"
  },
  "language_info": {
   "codemirror_mode": {
    "name": "ipython",
    "version": 3
   },
   "file_extension": ".py",
   "mimetype": "text/x-python",
   "name": "python",
   "nbconvert_exporter": "python",
   "pygments_lexer": "ipython3",
   "version": "3.7.3"
  }
 },
 "nbformat": 4,
 "nbformat_minor": 2
}
